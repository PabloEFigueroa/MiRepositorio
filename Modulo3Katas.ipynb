{
 "cells": [
  {
   "cell_type": "markdown",
   "metadata": {},
   "source": [
    "Modulo 3 Katas"
   ]
  },
  {
   "cell_type": "markdown",
   "metadata": {},
   "source": [
    "IF, ELIF, ELSE"
   ]
  },
  {
   "cell_type": "code",
   "execution_count": 1,
   "metadata": {},
   "outputs": [
    {
     "name": "stdout",
     "output_type": "stream",
     "text": [
      "Muy rápido\n"
     ]
    }
   ],
   "source": [
    "velocidad_asteroide = 49\n",
    "velocidad_limite = 25\n",
    "\n",
    "if velocidad_asteroide > velocidad_limite:\n",
    "    print('Muy rápido')\n",
    "else:\n",
    "    print('No tan rápido')"
   ]
  },
  {
   "cell_type": "code",
   "execution_count": 10,
   "metadata": {},
   "outputs": [
    {
     "name": "stdout",
     "output_type": "stream",
     "text": [
      "No alertar\n"
     ]
    }
   ],
   "source": [
    "velocidad_rayo_luz = 20\n",
    "velocidad_asteroide_en_atmosfera = 19\n",
    "\n",
    "if velocidad_asteroide_en_atmosfera >= velocidad_rayo_luz:\n",
    "    print('Alertar para buscar el asteroide!')\n",
    "elif velocidad_asteroide_en_atmosfera == 0:\n",
    "    print('No hay asteroide')\n",
    "else:\n",
    "    print('No alertar')"
   ]
  },
  {
   "cell_type": "markdown",
   "metadata": {},
   "source": [
    "AND y OR"
   ]
  },
  {
   "cell_type": "code",
   "execution_count": 15,
   "metadata": {},
   "outputs": [
    {
     "name": "stdout",
     "output_type": "stream",
     "text": [
      "Buscar al asteroide en el cielo\n"
     ]
    }
   ],
   "source": [
    "velocidad_asteroide = 25\n",
    "tamanio_asteroide = 40\n",
    "\n",
    "if (tamanio_asteroide > 25 and velocidad_asteroide > 25):\n",
    "    print('Alerta de asteroide grande y rápido')\n",
    "elif velocidad_asteroide >= 25:\n",
    "    print('Buscar al asteroide en el cielo')\n",
    "elif tamanio_asteroide <= 25:\n",
    "    print('No es peligroso')\n",
    "else:\n",
    "    print('No hay asteroide')"
   ]
  }
 ],
 "metadata": {
  "interpreter": {
   "hash": "1b9d0c045cf8b99fbd433ca7e64964e7a8a6ed0fd68197d09cdd6a43a9658c43"
  },
  "kernelspec": {
   "display_name": "Python 3.9.10 64-bit (windows store)",
   "language": "python",
   "name": "python3"
  },
  "language_info": {
   "codemirror_mode": {
    "name": "ipython",
    "version": 3
   },
   "file_extension": ".py",
   "mimetype": "text/x-python",
   "name": "python",
   "nbconvert_exporter": "python",
   "pygments_lexer": "ipython3",
   "version": "3.9.10"
  },
  "orig_nbformat": 4
 },
 "nbformat": 4,
 "nbformat_minor": 2
}
