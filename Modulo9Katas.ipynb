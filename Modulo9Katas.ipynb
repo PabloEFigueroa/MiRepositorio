{
 "cells": [
  {
   "cell_type": "markdown",
   "metadata": {},
   "source": [
    "Ejercicio: Uso de funciones en Python"
   ]
  },
  {
   "cell_type": "code",
   "execution_count": 2,
   "metadata": {},
   "outputs": [
    {
     "name": "stdout",
     "output_type": "stream",
     "text": [
      "Reporte:\n",
      "Promedio: 20.0\n",
      "Tanque1: 10\n",
      "Tanque2: 20\n",
      "Tanque3: 30\n",
      "\n"
     ]
    }
   ],
   "source": [
    "# Función para leer 3 tanques de combustible y muestre el promedio\n",
    "\n",
    "def combustible_promedio(tanque1, tanque2, tanque3):\n",
    "    promedio = (tanque1+tanque2+tanque3)/3\n",
    "\n",
    "    return f\"\"\"Reporte:\n",
    "Promedio: {promedio}\n",
    "Tanque1: {tanque1}\n",
    "Tanque2: {tanque2}\n",
    "Tanque3: {tanque3}\n",
    "\"\"\"\n",
    "\n",
    "# Llamamos a la función que genera el reporte print(funcion(tanque1, tanque2, tanque3))\n",
    "print(combustible_promedio(10,20,30))"
   ]
  },
  {
   "cell_type": "code",
   "execution_count": 4,
   "metadata": {},
   "outputs": [
    {
     "data": {
      "text/plain": [
       "20.0"
      ]
     },
     "execution_count": 4,
     "metadata": {},
     "output_type": "execute_result"
    }
   ],
   "source": [
    "# Función promedio \n",
    "def promedio(valores_tanques):\n",
    "    total = sum(valores_tanques)\n",
    "    tamanio = len(valores_tanques)\n",
    "    return total / tamanio\n",
    "\n",
    "tanques = [10,20,30]\n",
    "\n",
    "promedio(tanques)"
   ]
  },
  {
   "cell_type": "code",
   "execution_count": 6,
   "metadata": {},
   "outputs": [
    {
     "name": "stdout",
     "output_type": "stream",
     "text": [
      "Reporte:\n",
      "Promedio: 20.0\n",
      "Tanque1: 10\n",
      "Tanque2: 20\n",
      "Tanque3: 30\n",
      "\n"
     ]
    }
   ],
   "source": [
    "def combustible_promedio_2(tanque1, tanque2, tanque3):\n",
    "\n",
    "    return f\"\"\"Reporte:\n",
    "Promedio: {promedio([tanque1,tanque2,tanque3])}\n",
    "Tanque1: {tanque1}\n",
    "Tanque2: {tanque2}\n",
    "Tanque3: {tanque3}\n",
    "\"\"\"\n",
    "\n",
    "print(combustible_promedio_2(10,20,30))"
   ]
  },
  {
   "cell_type": "markdown",
   "metadata": {},
   "source": [
    "Ejercicio 2: Trabajo con argumentos de palabra clave"
   ]
  },
  {
   "cell_type": "code",
   "execution_count": 7,
   "metadata": {},
   "outputs": [
    {
     "name": "stdout",
     "output_type": "stream",
     "text": [
      "Datos de la misión\n",
      "Hora de prelanzamiento: 2\n",
      "tiempo de vuelo: 10\n",
      "destino: Mars\n",
      "tanque externo: 30000\n",
      "tanque interno: 10000\n",
      "\n"
     ]
    }
   ],
   "source": [
    "# Función con un informe preciso de la misión. Considera hora de prelanzamiento, tiempo de vuelo, destino, tanque externo y tanque interno\n",
    "\n",
    "def informe_de_mision(launch_time,flight_time,destination,external_tank,internal_tank):\n",
    "    return f\"\"\"Datos de la misión\n",
    "Hora de prelanzamiento: {launch_time}\n",
    "tiempo de vuelo: {flight_time}\n",
    "destino: {destination}\n",
    "tanque externo: {external_tank}\n",
    "tanque interno: {internal_tank}\n",
    "\"\"\"\n",
    "print(informe_de_mision(2,10,\"Mars\",30000,10000))\n",
    "\n",
    "# Escribe tu nueva función de reporte considerando lo anterior\n",
    "\n",
    "\n",
    "# Escribe tu nueva función"
   ]
  },
  {
   "cell_type": "code",
   "execution_count": 10,
   "metadata": {},
   "outputs": [
    {
     "name": "stdout",
     "output_type": "stream",
     "text": [
      "<class 'str'>\n",
      "<class 'tuple'>\n",
      "<class 'dict'>\n",
      "Reporte\n",
      "Destino: Moon\n",
      "Minutos: 76\n",
      "Combustible: 500000\n",
      "\n"
     ]
    }
   ],
   "source": [
    "#La función es problemática porque no se puede adaptar para minutos adicionales o tanques adicionales de combustible. \n",
    "#Hazlo más flexible permitiendo cualquier número de pasos basados en el tiempo y cualquier número de tanques. \n",
    "#En lugar de usar *args y **kwargs, aprovecha el hecho de que puedes usar cualquier nombre que desees. \n",
    "#Asegurate que la función sea más legible mediante el uso de nombres de variables que están asociados con las entradas, como *minutes y **fuel_reservoirs\n",
    "\n",
    "def new_informe_mision(destino,*minutes,**fuel_reservoirs):\n",
    "    #print(type(destino))\n",
    "    #print(type(minutes))\n",
    "    #print(type(fuel_reservoirs))\n",
    "    return f\"\"\"Reporte\n",
    "Destino: {destino}\n",
    "Minutos: {sum(minutes)}\n",
    "Combustible: {sum(fuel_reservoirs.values())}\n",
    "\"\"\"\n",
    "\n",
    "print(new_informe_mision(\"Moon\", 10, 15, 51, main=300000, external=200000))"
   ]
  },
  {
   "cell_type": "code",
   "execution_count": 19,
   "metadata": {},
   "outputs": [
    {
     "name": "stdout",
     "output_type": "stream",
     "text": [
      "Reporte \n",
      "Destino: Jupiter\n",
      "Minutos: 600\n",
      "Combustible: 550000\n",
      "\n",
      "main 100000\n",
      "external 450000\n",
      "\n"
     ]
    }
   ],
   "source": [
    "# Debido a que el combustible que queda en los tanques es específico de cada tanque, actualiza la función para usar el nombre de cada tanque en el informe:\n",
    "\n",
    "def new_informe_mision(destino,*minutes,**fuel_reservoirs):\n",
    "    #print(type(destino))\n",
    "    #print(type(minutes))\n",
    "    #print(type(fuel_reservoirs))\n",
    "    reporte_combustible=''\n",
    "    print(f\"\"\"Reporte \n",
    "Destino: {destino}\n",
    "Minutos: {sum(minutes)}\n",
    "Combustible: {sum(fuel_reservoirs.values())}\n",
    "\"\"\")\n",
    "    for tank_name, value in fuel_reservoirs.items():\n",
    "        reporte_combustible += f\"{tank_name} {value}\\n\"\n",
    "    return reporte_combustible\n",
    "\n",
    "reporte_tanques = new_informe_mision(\"Jupiter\",100,200,300,main=100000,external=450000)\n",
    "print(reporte_tanques)"
   ]
  }
 ],
 "metadata": {
  "interpreter": {
   "hash": "1b9d0c045cf8b99fbd433ca7e64964e7a8a6ed0fd68197d09cdd6a43a9658c43"
  },
  "kernelspec": {
   "display_name": "Python 3.9.10 64-bit (windows store)",
   "language": "python",
   "name": "python3"
  },
  "language_info": {
   "codemirror_mode": {
    "name": "ipython",
    "version": 3
   },
   "file_extension": ".py",
   "mimetype": "text/x-python",
   "name": "python",
   "nbconvert_exporter": "python",
   "pygments_lexer": "ipython3",
   "version": "3.9.10"
  },
  "orig_nbformat": 4
 },
 "nbformat": 4,
 "nbformat_minor": 2
}
