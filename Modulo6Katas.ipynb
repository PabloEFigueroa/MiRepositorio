{
 "cells": [
  {
   "cell_type": "markdown",
   "metadata": {},
   "source": [
    "Katas Modulo 6"
   ]
  },
  {
   "cell_type": "code",
   "execution_count": 33,
   "metadata": {},
   "outputs": [
    {
     "name": "stdout",
     "output_type": "stream",
     "text": [
      "['Mercurio', 'Venus', 'Tierra', 'Marte', 'Jupiter', 'Saturno', 'Urano', 'Neptuno']\n",
      "8\n"
     ]
    }
   ],
   "source": [
    "planets = ['Mercurio','Venus','Tierra','Marte','Jupiter','Saturno','Urano','Neptuno']\n",
    "print(planets)\n",
    "print(len(planets))"
   ]
  },
  {
   "cell_type": "code",
   "execution_count": 34,
   "metadata": {},
   "outputs": [
    {
     "name": "stdout",
     "output_type": "stream",
     "text": [
      "Plutón\n",
      "9\n"
     ]
    }
   ],
   "source": [
    "planets.append('Plutón')\n",
    "print(planets[-1])\n",
    "print(len(planets))"
   ]
  },
  {
   "cell_type": "code",
   "execution_count": 35,
   "metadata": {},
   "outputs": [
    {
     "name": "stdout",
     "output_type": "stream",
     "text": [
      "seleccionaste al planeta Plutón\n",
      "8\n"
     ]
    }
   ],
   "source": [
    "entrada_planeta = input(\"Introduce el nombre de un planeta\")\n",
    "\n",
    "pos = planets.index(entrada_planeta)\n",
    "print('seleccionaste al planeta '+entrada_planeta)\n",
    "print(pos)"
   ]
  },
  {
   "cell_type": "code",
   "execution_count": 36,
   "metadata": {},
   "outputs": [
    {
     "name": "stdout",
     "output_type": "stream",
     "text": [
      "planetas mas cercanos al sol 8\n",
      "['Mercurio', 'Venus', 'Tierra', 'Marte', 'Jupiter', 'Saturno', 'Urano', 'Neptuno']\n"
     ]
    }
   ],
   "source": [
    "print('planetas mas cercanos al sol '+str(pos))\n",
    "print(planets[0:pos])"
   ]
  },
  {
   "cell_type": "code",
   "execution_count": 37,
   "metadata": {},
   "outputs": [
    {
     "name": "stdout",
     "output_type": "stream",
     "text": [
      "planetas mas lejanos al sol 1\n",
      "[]\n"
     ]
    }
   ],
   "source": [
    "new_pos = 9 - pos\n",
    "print('planetas mas lejanos al sol '+str(new_pos))\n",
    "print(planets[pos+1:])"
   ]
  }
 ],
 "metadata": {
  "interpreter": {
   "hash": "1b9d0c045cf8b99fbd433ca7e64964e7a8a6ed0fd68197d09cdd6a43a9658c43"
  },
  "kernelspec": {
   "display_name": "Python 3.9.10 64-bit (windows store)",
   "language": "python",
   "name": "python3"
  },
  "language_info": {
   "codemirror_mode": {
    "name": "ipython",
    "version": 3
   },
   "file_extension": ".py",
   "mimetype": "text/x-python",
   "name": "python",
   "nbconvert_exporter": "python",
   "pygments_lexer": "ipython3",
   "version": "3.9.10"
  },
  "orig_nbformat": 4
 },
 "nbformat": 4,
 "nbformat_minor": 2
}
